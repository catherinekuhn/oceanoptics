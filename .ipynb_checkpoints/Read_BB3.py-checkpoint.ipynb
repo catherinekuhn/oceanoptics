{
 "cells": [
  {
   "cell_type": "code",
   "execution_count": 1,
   "metadata": {
    "collapsed": true
   },
   "outputs": [],
   "source": [
    "import numpy as np\n",
    "import pandas as pd\n",
    "import matplotlib.pyplot as plt\n",
    "import os, fnmatch\n",
    "import glob"
   ]
  },
  {
   "cell_type": "code",
   "execution_count": 2,
   "metadata": {
    "collapsed": true
   },
   "outputs": [],
   "source": [
    "# Read BB3 files from folder"
   ]
  },
  {
   "cell_type": "code",
   "execution_count": 3,
   "metadata": {
    "collapsed": true
   },
   "outputs": [],
   "source": [
    "#Choose only the ones that are of your group - change the filter string, e.g. 'Python'\n",
    "indir = '../Data/VSF3'\n",
    "\n",
    "index = 0\n",
    "#choose index - 0 pathlist for RED, 1 for BLUE\n",
    "if index == 0:\n",
    "    pathlist = glob.glob('../Data/VSF3/*red*')\n",
    "elif index == 1:\n",
    "    pathlist = glob.glob('../Data/VSF3/*blue*')\n",
    "#print (pathlist)\n"
   ]
  },
  {
   "cell_type": "code",
   "execution_count": 4,
   "metadata": {},
   "outputs": [
    {
     "name": "stdout",
     "output_type": "stream",
     "text": [
      "['red_1', 'red_2']\n",
      "['blue_1', 'blue_2']\n"
     ]
    }
   ],
   "source": [
    "# For the BLUE read columns 3 and 4, for the RED read 11 and 12\n",
    "columns = ['filename', 'random_number', 'blue_1' , 'blue_2'     , 'blue_3', 'blue_check',\\\n",
    "             'green_1' , 'green_2'      , 'green_3', 'green_check',  'red_1', 'red_2'     ,\\\n",
    "             'red_3'   , 'red_check'    , 'temp','other'] \n",
    "red_cols = columns[10:12]\n",
    "print(red_cols)\n",
    "blue_cols = columns[2:4]\n",
    "print(blue_cols)"
   ]
  },
  {
   "cell_type": "code",
   "execution_count": 5,
   "metadata": {},
   "outputs": [
    {
     "ename": "SyntaxError",
     "evalue": "invalid syntax (<ipython-input-5-fa6e471b7078>, line 6)",
     "output_type": "error",
     "traceback": [
      "\u001b[0;36m  File \u001b[0;32m\"<ipython-input-5-fa6e471b7078>\"\u001b[0;36m, line \u001b[0;32m6\u001b[0m\n\u001b[0;31m    time      = readfile.columns[]\u001b[0m\n\u001b[0m                                 ^\u001b[0m\n\u001b[0;31mSyntaxError\u001b[0m\u001b[0;31m:\u001b[0m invalid syntax\n"
     ]
    }
   ],
   "source": [
    "for file in pathlist_red_arr:\n",
    "    readfile = pd.read_csv(file, delimiter='\\t', header=None)\n",
    "    readfile.columns = ['filename', 'time', 'blue_1' , 'blue_2'     , 'blue_3', 'blue_check',\\\n",
    "                        'green_1' , 'green_2'      , 'green_3', 'green_check',  'red_1', 'red_2'     ,\\\n",
    "                        'red_3'   , 'red_check'    , 'temp','other'] \n",
    "    red_cols = readfile.columns[10:12]\n",
    "    blue_cols = readfile.columns[2:4]\n",
    "    time      = readfile.columns[]"
   ]
  },
  {
   "cell_type": "code",
   "execution_count": null,
   "metadata": {
    "collapsed": true
   },
   "outputs": [],
   "source": []
  },
  {
   "cell_type": "code",
   "execution_count": null,
   "metadata": {
    "collapsed": true
   },
   "outputs": [],
   "source": []
  }
 ],
 "metadata": {
  "kernelspec": {
   "display_name": "Python 2",
   "language": "python",
   "name": "python2"
  },
  "language_info": {
   "codemirror_mode": {
    "name": "ipython",
    "version": 2
   },
   "file_extension": ".py",
   "mimetype": "text/x-python",
   "name": "python",
   "nbconvert_exporter": "python",
   "pygments_lexer": "ipython2",
   "version": "2.7.13"
  }
 },
 "nbformat": 4,
 "nbformat_minor": 2
}
