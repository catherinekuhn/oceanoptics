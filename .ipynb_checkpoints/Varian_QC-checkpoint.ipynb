{
 "cells": [
  {
   "cell_type": "code",
   "execution_count": 1,
   "metadata": {},
   "outputs": [
    {
     "name": "stderr",
     "output_type": "stream",
     "text": [
      "/Users/ckuhn/anaconda2/lib/python2.7/site-packages/statsmodels/compat/pandas.py:56: FutureWarning: The pandas.core.datetools module is deprecated and will be removed in a future version. Please use the pandas.tseries module instead.\n",
      "  from pandas.core import datetools\n"
     ]
    }
   ],
   "source": [
    "# This notebook was built in Catherine's root environment. (Sorry Don!) \n",
    "import pandas as pd\n",
    "from pandas import DataFrame\n",
    "import numpy as np\n",
    "import os\n",
    "import glob\n",
    "import datetime\n",
    "import pylab\n",
    "import matplotlib as plt\n",
    "import datetime as datetime  \n",
    "import statsmodels.api as sm  \n",
    "import matplotlib.pyplot as plt\n",
    "\n",
    "# plt.style.use('ggplot')"
   ]
  },
  {
   "cell_type": "code",
   "execution_count": 2,
   "metadata": {},
   "outputs": [
    {
     "name": "stdout",
     "output_type": "stream",
     "text": [
      "[Errno 2] No such file or directory: '/Users/ckuhn/Downloads/Varian_spec/corr'\n",
      "/Users/ckuhn/Documents/oceanoptics\n"
     ]
    }
   ],
   "source": [
    "%cd /Users/ckuhn/Downloads/Varian_spec/corr\n",
    "\n",
    "# reads all files with a .txt ending in the directory\n",
    "read_files = glob.glob(\"*.csv\")\n",
    "\n",
    "# makes a new file called results.txt that is all the .txt files stitched together\n",
    "with open('merged_result.csv', \"wb\") as outfile:\n",
    "    for f in read_files:\n",
    "        with open(f, \"rb\") as infile:\n",
    "            outfile.write(infile.read())"
   ]
  },
  {
   "cell_type": "code",
   "execution_count": 5,
   "metadata": {},
   "outputs": [
    {
     "name": "stdout",
     "output_type": "stream",
     "text": [
      "/Users/ckuhn/Downloads/Varian_spec\n"
     ]
    }
   ],
   "source": [
    "%cd /Users/ckuhn/Downloads/Varian_spec"
   ]
  },
  {
   "cell_type": "code",
   "execution_count": null,
   "metadata": {
    "collapsed": true
   },
   "outputs": [],
   "source": [
    "data = pd.DataFrame()\n",
    "\n",
    "for f in glob.glob(\"*.csv\"):\n",
    "    df = pd.read_files(f, header = 0, skiprows=8)\n",
    "    data = data.append(df,ignore_index=True)"
   ]
  },
  {
   "cell_type": "code",
   "execution_count": null,
   "metadata": {
    "collapsed": true
   },
   "outputs": [],
   "source": [
    "data.plot"
   ]
  }
 ],
 "metadata": {
  "kernelspec": {
   "display_name": "Python 2",
   "language": "python",
   "name": "python2"
  },
  "language_info": {
   "codemirror_mode": {
    "name": "ipython",
    "version": 2
   },
   "file_extension": ".py",
   "mimetype": "text/x-python",
   "name": "python",
   "nbconvert_exporter": "python",
   "pygments_lexer": "ipython2",
   "version": "2.7.13"
  }
 },
 "nbformat": 4,
 "nbformat_minor": 2
}
