{
 "cells": [
  {
   "cell_type": "code",
   "execution_count": 2,
   "metadata": {
    "collapsed": true
   },
   "outputs": [],
   "source": [
    "import numpy as np\n",
    "import pandas as pd\n",
    "import matplotlib.pyplot as plt\n",
    "import os, fnmatch\n",
    "import glob\n",
    "import datetime as datetime\n",
    "import seaborn as sns"
   ]
  },
  {
   "cell_type": "code",
   "execution_count": 3,
   "metadata": {
    "collapsed": true
   },
   "outputs": [],
   "source": [
    "%matplotlib inline"
   ]
  },
  {
   "cell_type": "code",
   "execution_count": 4,
   "metadata": {
    "collapsed": true
   },
   "outputs": [],
   "source": [
    "sns.set_style(\"whitegrid\")"
   ]
  },
  {
   "cell_type": "code",
   "execution_count": 10,
   "metadata": {
    "collapsed": true
   },
   "outputs": [],
   "source": [
    "filename = 'Hydrocolor.txt'\n",
    "buoy_file = 'UMaine_Buoy_DMCDOCK.csv'\n",
    "closure_file   = 'turb_closure.csv'"
   ]
  },
  {
   "cell_type": "code",
   "execution_count": 11,
   "metadata": {},
   "outputs": [],
   "source": [
    "readfile = pd.read_csv(filename, delimiter='\\t', header=None, skiprows=1)\n",
    "buoy     = pd.read_csv(buoy_file, delimiter='\\t', header=None, skiprows=1)\n",
    "closure  = pd.read_csv(closure_file, delimiter=',')"
   ]
  },
  {
   "cell_type": "code",
   "execution_count": 12,
   "metadata": {
    "collapsed": true
   },
   "outputs": [],
   "source": [
    "readfile.columns = ['Index', 'Name','Date','Time','Turbidity mean', 'Turbidity std', 'SPM mean', 'SPM std',\\\n",
    "           'bb red mean', 'bb red std', 'Rrs red mean', 'Rrs red std', 'Rrs green mean' ,\\\n",
    "           'Rrs green std', 'Rrs blue mean', 'Rrs blue std', 'Latitude', 'Longitude']\n",
    "buoy.cols = ['Date', 'Turbidity']\n",
    "#closure.arr = ['Turbidity_NTU', 'Instrument']"
   ]
  },
  {
   "cell_type": "code",
   "execution_count": 13,
   "metadata": {},
   "outputs": [
    {
     "data": {
      "text/html": [
       "<div>\n",
       "<style>\n",
       "    .dataframe thead tr:only-child th {\n",
       "        text-align: right;\n",
       "    }\n",
       "\n",
       "    .dataframe thead th {\n",
       "        text-align: left;\n",
       "    }\n",
       "\n",
       "    .dataframe tbody tr th {\n",
       "        vertical-align: top;\n",
       "    }\n",
       "</style>\n",
       "<table border=\"1\" class=\"dataframe\">\n",
       "  <thead>\n",
       "    <tr style=\"text-align: right;\">\n",
       "      <th></th>\n",
       "      <th>Turbidity_NTU</th>\n",
       "      <th>Instrument</th>\n",
       "    </tr>\n",
       "  </thead>\n",
       "  <tbody>\n",
       "    <tr>\n",
       "      <th>0</th>\n",
       "      <td>5.0</td>\n",
       "      <td>Hydrocolor</td>\n",
       "    </tr>\n",
       "    <tr>\n",
       "      <th>1</th>\n",
       "      <td>6.0</td>\n",
       "      <td>Hydrocolor</td>\n",
       "    </tr>\n",
       "    <tr>\n",
       "      <th>2</th>\n",
       "      <td>5.0</td>\n",
       "      <td>Hydrocolor</td>\n",
       "    </tr>\n",
       "    <tr>\n",
       "      <th>3</th>\n",
       "      <td>5.0</td>\n",
       "      <td>Hydrocolor</td>\n",
       "    </tr>\n",
       "    <tr>\n",
       "      <th>4</th>\n",
       "      <td>4.0</td>\n",
       "      <td>Hydrocolor</td>\n",
       "    </tr>\n",
       "  </tbody>\n",
       "</table>\n",
       "</div>"
      ],
      "text/plain": [
       "   Turbidity_NTU  Instrument\n",
       "0            5.0  Hydrocolor\n",
       "1            6.0  Hydrocolor\n",
       "2            5.0  Hydrocolor\n",
       "3            5.0  Hydrocolor\n",
       "4            4.0  Hydrocolor"
      ]
     },
     "execution_count": 13,
     "metadata": {},
     "output_type": "execute_result"
    }
   ],
   "source": [
    "closure.head()"
   ]
  },
  {
   "cell_type": "code",
   "execution_count": 14,
   "metadata": {
    "collapsed": true
   },
   "outputs": [],
   "source": [
    "#Hydrocolor data\n",
    "time = readfile['Time']\n",
    "index = readfile['Index']\n",
    "turbidity_mean = readfile['Turbidity mean']\n",
    "turbidity_std  = readfile['Turbidity std']\n",
    "Rrs_red_mean = readfile['Rrs red mean']\n",
    "Rrs_red_std = readfile['Rrs red std']\n",
    "Rrs_green_mean = readfile['Rrs green mean']\n",
    "Rrs_green_std = readfile['Rrs green std']\n",
    "Rrs_blue_mean = readfile['Rrs green mean']\n",
    "Rrs_blue_std = readfile['Rrs green std']"
   ]
  },
  {
   "cell_type": "code",
   "execution_count": 15,
   "metadata": {},
   "outputs": [
    {
     "data": {
      "image/png": "[encoded data removed]",
      "text/plain": [
       "<matplotlib.figure.Figure at 0x1140c6a90>"
      ]
     },
     "metadata": {},
     "output_type": "display_data"
    }
   ],
   "source": [
    "plt.scatter(index, turbidity_mean, color='black',linewidth=3.0)\n",
    "\n",
    "plt.xlim\n",
    "#plt.errorbar(index, turbidity_mean, yerr=turbidity_std, linewidth = 1.0)\n",
    "plt.errorbar(index, turbidity_mean, yerr=turbidity_std, marker='o', mfc='black', color = 'black',\n",
    "         mec='black', ms=12, mew=4)\n",
    "plt.xlabel('Measurement index')\n",
    "plt.ylabel('Turbidity [NTU]')\n",
    "plt.title('Hydrocolor Turbidity')\n",
    "plt.show()"
   ]
  },
  {
   "cell_type": "code",
   "execution_count": 20,
   "metadata": {},
   "outputs": [
    {
     "data": {
      "image/png": "[encoded data removed]",
      "text/plain": [
       "<matplotlib.figure.Figure at 0x114156d90>"
      ]
     },
     "metadata": {},
     "output_type": "display_data"
    }
   ],
   "source": [
    "ax = sns.pointplot(x = 'Instrument',y='Turbidity_NTU',join=False, capsize=.2, data=closure)\n",
    "plt.ylabel('Turbidity [NTU]')\n",
    "plt.savefig('boxplot.jpg', dpi=300)"
   ]
  },
  {
   "cell_type": "code",
   "execution_count": null,
   "metadata": {
    "collapsed": true
   },
   "outputs": [],
   "source": []
  },
  {
   "cell_type": "code",
   "execution_count": null,
   "metadata": {},
   "outputs": [],
   "source": [
    "plt.scatter(index, Rrs_red_mean, color='red',linewidth=3.0)\n",
    "plt.xlim\n",
    "#plt.errorbar(index, turbidity_mean, yerr=turbidity_std, linewidth = 1.0)\n",
    "plt.errorbar(index, Rrs_red_mean, yerr=Rrs_red_std, marker='o', mfc='red', color='red',\n",
    "         mec='red', ms=12, mew=4)\n",
    "plt.xlabel('Measurement index')\n",
    "plt.ylabel('Rrs red [1/sr]')\n",
    "plt.ylim([0.002,0.011])\n",
    "plt.title('Hydrocolor Rrs Red')\n",
    "plt.show()"
   ]
  },
  {
   "cell_type": "code",
   "execution_count": null,
   "metadata": {},
   "outputs": [],
   "source": [
    "plt.scatter(index, Rrs_green_mean, color='green',linewidth=3.0)\n",
    "plt.xlim\n",
    "#plt.errorbar(index, turbidity_mean, yerr=turbidity_std, linewidth = 1.0)\n",
    "plt.errorbar(index, Rrs_green_mean, yerr=Rrs_green_std, marker='o', mfc='green', color='green',\n",
    "         mec='green', ms=12, mew=4)\n",
    "plt.xlabel('Measurement index')\n",
    "plt.ylabel('Rrs green [1/sr]')\n",
    "plt.ylim([0.004,0.016])\n",
    "plt.title('Hydrocolor Rrs Green')\n",
    "plt.show()"
   ]
  },
  {
   "cell_type": "code",
   "execution_count": null,
   "metadata": {},
   "outputs": [],
   "source": [
    "plt.scatter(index, Rrs_blue_mean, color='blue',linewidth=3.0)\n",
    "plt.xlim\n",
    "#plt.errorbar(index, turbidity_mean, yerr=turbidity_std, linewidth = 1.0)\n",
    "plt.errorbar(index, Rrs_blue_mean, yerr=Rrs_green_std, marker='o', mfc='blue', color='blue',\n",
    "         mec='blue', ms=12, mew=4)\n",
    "plt.xlabel('Measurement index')\n",
    "plt.ylabel('Rrs blue [1/sr]')\n",
    "plt.ylim([0.004,0.016])\n",
    "plt.title('Hydrocolor Rrs Blue')\n",
    "plt.show()"
   ]
  },
  {
   "cell_type": "code",
   "execution_count": null,
   "metadata": {
    "collapsed": true
   },
   "outputs": [],
   "source": []
  },
  {
   "cell_type": "code",
   "execution_count": null,
   "metadata": {
    "collapsed": true
   },
   "outputs": [],
   "source": []
  },
  {
   "cell_type": "code",
   "execution_count": null,
   "metadata": {
    "collapsed": true
   },
   "outputs": [],
   "source": []
  }
 ],
 "metadata": {
  "kernelspec": {
   "display_name": "Python 2",
   "language": "python",
   "name": "python2"
  },
  "language_info": {
   "codemirror_mode": {
    "name": "ipython",
    "version": 2
   },
   "file_extension": ".py",
   "mimetype": "text/x-python",
   "name": "python",
   "nbconvert_exporter": "python",
   "pygments_lexer": "ipython2",
   "version": "2.7.13"
  }
 },
 "nbformat": 4,
 "nbformat_minor": 2
}
