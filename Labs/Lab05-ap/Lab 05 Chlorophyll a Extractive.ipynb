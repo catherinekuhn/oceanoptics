{
 "cells": [
  {
   "cell_type": "markdown",
   "metadata": {},
   "source": [
    "# OceanOptics 2017\n",
    "# Lab 5: Extracted Chlorophyll-a \n"
   ]
  },
  {
   "cell_type": "markdown",
   "metadata": {},
   "source": [
    "The purpose of this notebook is to calculate chlorophyll-a and pheophyton from our extracted chlorophyll-a samples that we have extracted. We will also propagate instrument uncertainty, compute the standard deviation of the replicates, and compare results bewrtwqeen students. Finally, we will calculate chlorophyll-a specific absorption coefficients for DRE samples. "
   ]
  },
  {
   "cell_type": "code",
   "execution_count": 1,
   "metadata": {},
   "outputs": [
    {
     "name": "stderr",
     "output_type": "stream",
     "text": [
      "/Users/ckuhn/anaconda2/lib/python2.7/site-packages/statsmodels/compat/pandas.py:56: FutureWarning: The pandas.core.datetools module is deprecated and will be removed in a future version. Please use the pandas.tseries module instead.\n",
      "  from pandas.core import datetools\n"
     ]
    }
   ],
   "source": [
    "# This notebook was built in Catherine's root environment. (Sorry Don!) \n",
    "import pandas as pd\n",
    "from pandas import DataFrame\n",
    "import numpy as np\n",
    "import os\n",
    "import glob\n",
    "import datetime\n",
    "import pylab\n",
    "import matplotlib as plt\n",
    "import datetime as datetime  \n",
    "import statsmodels.api as sm  \n",
    "import matplotlib.pyplot as plt\n",
    "import seaborn as sns"
   ]
  },
  {
   "cell_type": "code",
   "execution_count": 2,
   "metadata": {
    "collapsed": true
   },
   "outputs": [],
   "source": [
    "%matplotlib inline"
   ]
  },
  {
   "cell_type": "markdown",
   "metadata": {},
   "source": [
    "### Import the data"
   ]
  },
  {
   "cell_type": "code",
   "execution_count": 3,
   "metadata": {},
   "outputs": [
    {
     "name": "stdout",
     "output_type": "stream",
     "text": [
      "[Errno 2] No such file or directory: '/Users/ckuhn/Documents/oceanoptics/Labs/Lab05/ # set to your working directory'\n",
      "/Users/ckuhn/Documents/oceanoptics/Labs/Lab05-ap\n"
     ]
    }
   ],
   "source": [
    "%cd /Users/ckuhn/Documents/oceanoptics/Labs/Lab05/ # set to your working directory"
   ]
  },
  {
   "cell_type": "markdown",
   "metadata": {},
   "source": [
    "This .csv contains the chl a and pheo a already calculated from the spreadsheet that was given to use by our amazing TA Jordan"
   ]
  },
  {
   "cell_type": "code",
   "execution_count": 4,
   "metadata": {},
   "outputs": [],
   "source": [
    "data = pd.read_csv('test.csv', low_memory=False)"
   ]
  },
  {
   "cell_type": "code",
   "execution_count": 5,
   "metadata": {},
   "outputs": [
    {
     "data": {
      "text/plain": [
       "u'/Users/ckuhn/Documents/oceanoptics/Labs/Lab05-ap'"
      ]
     },
     "execution_count": 5,
     "metadata": {},
     "output_type": "execute_result"
    }
   ],
   "source": [
    "% pwd"
   ]
  },
  {
   "cell_type": "markdown",
   "metadata": {},
   "source": [
    "# Set your global variables"
   ]
  },
  {
   "cell_type": "code",
   "execution_count": 31,
   "metadata": {
    "collapsed": true
   },
   "outputs": [],
   "source": [
    "# Uncertainty terms:\n",
    "    \n",
    "# sigma K given in the lab\n",
    "\n",
    "sigma_K = 0.03\n",
    "    \n",
    "# These numbers are the uncertainty associated with when the instrument read the chla and pheo during calibration. \n",
    "# We are ballparking these numbers\n",
    "\n",
    "sigma_phi_chla = 3\n",
    "sigma_phi_pheo = 1.5\n",
    "\n",
    "phi_chla = 500  # these are the conc associated with the standards \n",
    "phi_pheo = 250  # these are the conc associated with the standards\n",
    "    \n",
    "# These numbers are the uncertainty we observed when we were taking measurements. The initial chlorophyll and final \n",
    "# chlorophyll \n",
    "\n",
    "sigma_F_init  = 3\n",
    "sigma_F_final = 1.5\n",
    "       \n",
    "# These are the calibration coefficients that we pulled from the lab spreadsheet from the last calibration, which was \n",
    "# conducted on April 27, 2012\n",
    "    \n",
    "K = 0.36 \n",
    "A = 1.88\n",
    "\n",
    "# Volumes\n",
    "\n",
    "sigma_v = 0.0005   # let's say we spilled 0.5 mL\n",
    "sigma_V = 0.005   # let's say we spilled 5 mL\n",
    "\n",
    "v = 0.005  # acetone\n",
    "V = 0.289  # volume of water filtered for the sample  "
   ]
  },
  {
   "cell_type": "markdown",
   "metadata": {},
   "source": [
    "### Add in your sample information"
   ]
  },
  {
   "cell_type": "code",
   "execution_count": 32,
   "metadata": {},
   "outputs": [
    {
     "data": {
      "text/html": [
       "<div>\n",
       "<style>\n",
       "    .dataframe thead tr:only-child th {\n",
       "        text-align: right;\n",
       "    }\n",
       "\n",
       "    .dataframe thead th {\n",
       "        text-align: left;\n",
       "    }\n",
       "\n",
       "    .dataframe tbody tr th {\n",
       "        vertical-align: top;\n",
       "    }\n",
       "</style>\n",
       "<table border=\"1\" class=\"dataframe\">\n",
       "  <thead>\n",
       "    <tr style=\"text-align: right;\">\n",
       "      <th></th>\n",
       "      <th>Fo_FSU</th>\n",
       "      <th>Fa_FSU</th>\n",
       "      <th>Chl_ugL</th>\n",
       "      <th>Phaeo_ugL</th>\n",
       "    </tr>\n",
       "  </thead>\n",
       "  <tbody>\n",
       "    <tr>\n",
       "      <th>0</th>\n",
       "      <td>590</td>\n",
       "      <td>358</td>\n",
       "      <td>3.07</td>\n",
       "      <td>1.97</td>\n",
       "    </tr>\n",
       "    <tr>\n",
       "      <th>1</th>\n",
       "      <td>573</td>\n",
       "      <td>345</td>\n",
       "      <td>3.02</td>\n",
       "      <td>2.35</td>\n",
       "    </tr>\n",
       "    <tr>\n",
       "      <th>2</th>\n",
       "      <td>536</td>\n",
       "      <td>330</td>\n",
       "      <td>2.72</td>\n",
       "      <td>2.58</td>\n",
       "    </tr>\n",
       "    <tr>\n",
       "      <th>3</th>\n",
       "      <td>638</td>\n",
       "      <td>389</td>\n",
       "      <td>3.29</td>\n",
       "      <td>2.87</td>\n",
       "    </tr>\n",
       "    <tr>\n",
       "      <th>4</th>\n",
       "      <td>609</td>\n",
       "      <td>363</td>\n",
       "      <td>3.25</td>\n",
       "      <td>2.30</td>\n",
       "    </tr>\n",
       "  </tbody>\n",
       "</table>\n",
       "</div>"
      ],
      "text/plain": [
       "   Fo_FSU  Fa_FSU  Chl_ugL  Phaeo_ugL\n",
       "0     590     358     3.07       1.97\n",
       "1     573     345     3.02       2.35\n",
       "2     536     330     2.72       2.58\n",
       "3     638     389     3.29       2.87\n",
       "4     609     363     3.25       2.30"
      ]
     },
     "execution_count": 32,
     "metadata": {},
     "output_type": "execute_result"
    }
   ],
   "source": [
    "data.head()"
   ]
  },
  {
   "cell_type": "code",
   "execution_count": 34,
   "metadata": {},
   "outputs": [],
   "source": [
    "varNo = 0 # change this to your sample number!\n",
    "\n",
    "f_init = data['Fo_FSU'][varNo]\n",
    "f_acid = data['Fa_FSU'][varNo]\n",
    "chla_ugL = data['Chl_ugL'][varNo]\n",
    "pheo_ugL = data['Phaeo_ugL'][varNo]"
   ]
  },
  {
   "cell_type": "code",
   "execution_count": 54,
   "metadata": {},
   "outputs": [
    {
     "name": "stdout",
     "output_type": "stream",
     "text": [
      "initial F =  590\n",
      "acid F = 358\n",
      "chla_ug/L = 3.07\n",
      "pheo_ug/L = 1.97\n"
     ]
    }
   ],
   "source": [
    "print 'initial F = ', f_init\n",
    "print 'acid F =', f_acid\n",
    "print 'chla_ug/L =', chla_ugL\n",
    "print 'pheo_ug/L =', pheo_ugL"
   ]
  },
  {
   "cell_type": "markdown",
   "metadata": {},
   "source": [
    "Compute the uncertainty in your acid ratio (A)"
   ]
  },
  {
   "cell_type": "code",
   "execution_count": 53,
   "metadata": {},
   "outputs": [
    {
     "name": "stdout",
     "output_type": "stream",
     "text": [
      "sigma_A= 0.0031914893617\n"
     ]
    }
   ],
   "source": [
    "sigma_A = 1/A * np.sqrt(((sigma_phi_chla/phi_chla)**2) + ((sigma_phi_pheo/phi_pheo)**2))\n",
    "print 'sigma_A=', sigma_A"
   ]
  },
  {
   "cell_type": "markdown",
   "metadata": {},
   "source": [
    "Compute the uncertainty in your sigma A/A-1"
   ]
  },
  {
   "cell_type": "code",
   "execution_count": 37,
   "metadata": {},
   "outputs": [
    {
     "name": "stdout",
     "output_type": "stream",
     "text": [
      "0.00112376466578\n"
     ]
    }
   ],
   "source": [
    "sigma_AoverAminus1 = 1/ (A/(A-1)) * np.sqrt (((sigma_A/A)**2) + ((sigma_A/A)**2))\n",
    "print(sigma_AoverAminus1)"
   ]
  },
  {
   "cell_type": "markdown",
   "metadata": {},
   "source": [
    "Uncertainty in the flourescence readings"
   ]
  },
  {
   "cell_type": "code",
   "execution_count": 38,
   "metadata": {},
   "outputs": [
    {
     "name": "stdout",
     "output_type": "stream",
     "text": [
      "3.35410196625\n"
     ]
    }
   ],
   "source": [
    "sigma_Finit_minus_Ffinal = np.sqrt (((sigma_F_init)**2) + ((sigma_F_final)**2))\n",
    "print(sigma_Finit_minus_Ffinal)"
   ]
  },
  {
   "cell_type": "code",
   "execution_count": 39,
   "metadata": {},
   "outputs": [
    {
     "name": "stdout",
     "output_type": "stream",
     "text": [
      "0.1\n"
     ]
    }
   ],
   "source": [
    "sigma_vV = sigma_v/sigma_V\n",
    "print(sigma_vV)"
   ]
  },
  {
   "cell_type": "code",
   "execution_count": 40,
   "metadata": {},
   "outputs": [],
   "source": [
    "sigma_chla = 1/chla_ugL * np.sqrt (((sigma_K/K)**2) + (sigma_AoverAminus1/ (A/(A-1))**2)\n",
    "                                         + (sigma_Finit_minus_Ffinal/(f_init-f_acid)**2) \n",
    "                                         + ((sigma_vV/(v/V))**2))"
   ]
  },
  {
   "cell_type": "markdown",
   "metadata": {},
   "source": [
    "## What the fuck is our uncertainty?"
   ]
  },
  {
   "cell_type": "code",
   "execution_count": 41,
   "metadata": {},
   "outputs": [
    {
     "name": "stdout",
     "output_type": "stream",
     "text": [
      "0.0031914893617\n",
      "0.03\n",
      "0.1\n",
      "3.35410196625\n",
      "final error: 1.88294051677\n"
     ]
    }
   ],
   "source": [
    "print(sigma_A)  # from calibration\n",
    "print(sigma_K)   # more calibration error\n",
    "print(sigma_vV) # from measuring water volume\n",
    "print (sigma_Finit_minus_Ffinal) # uncertainty in our lab readings\n",
    "\n",
    "print 'final error:', sigma_chla # total problems"
   ]
  },
  {
   "cell_type": "code",
   "execution_count": null,
   "metadata": {
    "collapsed": true
   },
   "outputs": [],
   "source": [
    "data['total_error_chla'] = sigma_chla"
   ]
  },
  {
   "cell_type": "code",
   "execution_count": 46,
   "metadata": {},
   "outputs": [],
   "source": [
    "#errors = pd.Dataframe(sigma_A,sigma_K, sigma_vV, sigma_Finit_minus_Ffinal)\n",
    "my_list =  [sigma_A,sigma_K, sigma_vV, sigma_Finit_minus_Ffinal]"
   ]
  },
  {
   "cell_type": "code",
   "execution_count": 48,
   "metadata": {},
   "outputs": [
    {
     "data": {
      "text/html": [
       "<div>\n",
       "<style>\n",
       "    .dataframe thead tr:only-child th {\n",
       "        text-align: right;\n",
       "    }\n",
       "\n",
       "    .dataframe thead th {\n",
       "        text-align: left;\n",
       "    }\n",
       "\n",
       "    .dataframe tbody tr th {\n",
       "        vertical-align: top;\n",
       "    }\n",
       "</style>\n",
       "<table border=\"1\" class=\"dataframe\">\n",
       "  <thead>\n",
       "    <tr style=\"text-align: right;\">\n",
       "      <th></th>\n",
       "      <th>0</th>\n",
       "    </tr>\n",
       "  </thead>\n",
       "  <tbody>\n",
       "    <tr>\n",
       "      <th>0</th>\n",
       "      <td>0.003191</td>\n",
       "    </tr>\n",
       "    <tr>\n",
       "      <th>1</th>\n",
       "      <td>0.030000</td>\n",
       "    </tr>\n",
       "    <tr>\n",
       "      <th>2</th>\n",
       "      <td>0.100000</td>\n",
       "    </tr>\n",
       "    <tr>\n",
       "      <th>3</th>\n",
       "      <td>3.354102</td>\n",
       "    </tr>\n",
       "  </tbody>\n",
       "</table>\n",
       "</div>"
      ],
      "text/plain": [
       "          0\n",
       "0  0.003191\n",
       "1  0.030000\n",
       "2  0.100000\n",
       "3  3.354102"
      ]
     },
     "execution_count": 48,
     "metadata": {},
     "output_type": "execute_result"
    }
   ],
   "source": [
    "df = pd.DataFrame(np.array(my_list), columns = list(\"abc\"))"
   ]
  },
  {
   "cell_type": "code",
   "execution_count": null,
   "metadata": {
    "collapsed": true
   },
   "outputs": [],
   "source": [
    "# One formula to rule them all \n",
    "\n",
    "For every row....\n",
    "\n",
    "# Extract measurements from sheet\n",
    "f_init = data['Fo_FSU'][varNo]\n",
    "f_acid = data['Fa_FSU'][varNo]\n",
    "chla_ugL = data['Chl_ugL'][varNo]\n",
    "pheo_ugL = data['Phaeo_ugL'][varNo]\n",
    "\n",
    "# Compute sigmas\n",
    "sigma_A = 1/A * np.sqrt(((sigma_phi_chla/phi_chla)**2) + ((sigma_phi_pheo/phi_pheo)**2))\n",
    "sigma_AoverAminus1 = 1/ (A/(A-1)) * np.sqrt (((sigma_A/A)**2) + ((sigma_A/A)**2))\n",
    "sigma_Finit_minus_Ffinal = np.sqrt (((sigma_F_init)**2) + ((sigma_F_final)**2))\n",
    "sigma_vV = sigma_v/sigma_V\n",
    "sigma_chla = 1/chla_ugL * np.sqrt (((sigma_K/K)**2) + (sigma_AoverAminus1/ (A/(A-1))**2)\n",
    "                                         + (sigma_Finit_minus_Ffinal/(f_init-f_acid)**2) \n",
    "                                         + ((sigma_vV/(v/V))**2))\n",
    "data['sigma_chla'] = sigma_chla\n"
   ]
  }
 ],
 "metadata": {
  "kernelspec": {
   "display_name": "Python 2",
   "language": "python",
   "name": "python2"
  },
  "language_info": {
   "codemirror_mode": {
    "name": "ipython",
    "version": 2
   },
   "file_extension": ".py",
   "mimetype": "text/x-python",
   "name": "python",
   "nbconvert_exporter": "python",
   "pygments_lexer": "ipython2",
   "version": "2.7.13"
  }
 },
 "nbformat": 4,
 "nbformat_minor": 2
}
