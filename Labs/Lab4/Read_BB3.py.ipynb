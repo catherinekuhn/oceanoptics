{
 "cells": [
  {
   "cell_type": "code",
   "execution_count": 66,
   "metadata": {
    "collapsed": true
   },
   "outputs": [],
   "source": [
    "import numpy as np\n",
    "import pandas as pd\n",
    "import matplotlib.pyplot as plt\n",
    "import os, fnmatch\n",
    "import glob"
   ]
  },
  {
   "cell_type": "code",
   "execution_count": 67,
   "metadata": {
    "collapsed": true
   },
   "outputs": [],
   "source": [
    "# Read BB3 files from folder"
   ]
  },
  {
   "cell_type": "code",
   "execution_count": 77,
   "metadata": {
    "collapsed": true
   },
   "outputs": [],
   "source": [
    "#Choose only the ones that are of your group - change the filter string, e.g. 'Python'\n",
    "indir = '../Data/VSF3'\n",
    "\n",
    "# Divide the pathlist for each group\n",
    "pathlist_DUN = glob.glob('../Data/VSF3/Dunaliella*')\n",
    "pathlist_CHA = glob.glob('../Data/VSF3/Chaetoceros*')\n",
    "pathlist_TAP = glob.glob('../Data/VSF3/*Tap*')\n",
    "pathlist_DRE = glob.glob('../Data/VSF3/*DRE*')\n",
    "\n",
    "pathlist_array = np.asarray([pathlist_DUN, pathlist_CHA, pathlist_TAP, pathlist_DRE])\n",
    "grouplist_array = ['Dunaliella', 'Chaetoceros', 'Tap water', 'DRE']"
   ]
  },
  {
   "cell_type": "code",
   "execution_count": 78,
   "metadata": {},
   "outputs": [
    {
     "name": "stdout",
     "output_type": "stream",
     "text": [
      "['../Data/VSF3\\\\ColorBlind_blue_TapWate2r_215.log', '../Data/VSF3\\\\ColorBlind_blue_TapWaterADust2_212.log', '../Data/VSF3\\\\ColorBlind_blue_TapWaterADust_212.log', '../Data/VSF3\\\\ColorBlind_blue_TapWater_215.log', '../Data/VSF3\\\\ColorBlind_red_TapWate2r_215.log', '../Data/VSF3\\\\ColorBlind_red_TapWaterADust2_213.log', '../Data/VSF3\\\\ColorBlind_red_TapWaterADust_213.log', '../Data/VSF3\\\\ColorBlind_red_TapWater_217.log']\n"
     ]
    }
   ],
   "source": [
    "print(pathlist_array[2])"
   ]
  },
  {
   "cell_type": "code",
   "execution_count": 80,
   "metadata": {},
   "outputs": [
    {
     "name": "stdout",
     "output_type": "stream",
     "text": [
      "[]\n",
      "[]\n",
      "../Data/VSF3\\Dunaliella_filt_blue\n",
      "../Data/VSF3\\Dunaliella_filt_blue2\n",
      "../Data/VSF3\\Dunaliella_filt_red\n",
      "../Data/VSF3\\Dunaliella_filt_red2\n",
      "../Data/VSF3\\Dunaliella_red_dark\n",
      "../Data/VSF3\\Dunaliella_tot_blue\n",
      "../Data/VSF3\\Dunaliella_tot_blue2\n",
      "../Data/VSF3\\Dunaliella_tot_red\n",
      "../Data/VSF3\\Dunaliella_tot_red2\n",
      "[]\n",
      "[]\n",
      "../Data/VSF3\\Chaetoceros_blue2_215\n",
      "../Data/VSF3\\Chaetoceros_blue_215\n",
      "../Data/VSF3\\Chaetoceros_red2_215\n",
      "../Data/VSF3\\Chaetoceros_red_215\n",
      "[]\n",
      "[]\n",
      "../Data/VSF3\\ColorBlind_blue_TapWate2r_215.log\n",
      "../Data/VSF3\\ColorBlind_blue_TapWaterADust2_212.log\n",
      "../Data/VSF3\\ColorBlind_blue_TapWaterADust_212.log\n",
      "../Data/VSF3\\ColorBlind_blue_TapWater_215.log\n",
      "../Data/VSF3\\ColorBlind_red_TapWate2r_215.log\n",
      "../Data/VSF3\\ColorBlind_red_TapWaterADust2_213.log\n",
      "../Data/VSF3\\ColorBlind_red_TapWaterADust_213.log\n",
      "../Data/VSF3\\ColorBlind_red_TapWater_217.log\n",
      "[]\n",
      "[]\n",
      "../Data/VSF3\\Python_blue_filtered_DRE_216\n",
      "../Data/VSF3\\Python_blue_filtered_DRE_216_2\n",
      "../Data/VSF3\\Python_blue_unfiltered_DRE_215\n",
      "../Data/VSF3\\Python_blue_unfiltered_DRE_215_2\n",
      "../Data/VSF3\\Python_red_filtered_DRE_216\n",
      "../Data/VSF3\\Python_red_filtered_DRE_216_2\n",
      "../Data/VSF3\\Python_red_unfiltered_DRE_215\n",
      "../Data/VSF3\\Python_red_unfiltered_DRE_215_2\n"
     ]
    },
    {
     "name": "stderr",
     "output_type": "stream",
     "text": [
      "C:\\Users\\elena\\Anaconda3\\lib\\site-packages\\numpy\\lib\\function_base.py:3858: RuntimeWarning: Invalid value encountered in median\n",
      "  r = func(a, **kwargs)\n",
      "C:\\Users\\elena\\Anaconda3\\lib\\site-packages\\numpy\\lib\\function_base.py:4116: RuntimeWarning: Invalid value encountered in percentile\n",
      "  interpolation=interpolation)\n"
     ]
    }
   ],
   "source": [
    "for path in pathlist_array:\n",
    "\n",
    "    redlist=[]\n",
    "    bluelist=[]\n",
    "            \n",
    "    redstring = 'red'\n",
    "    bluestring = 'blue'\n",
    "    if redstring in path:\n",
    "        redlist.append(path)\n",
    "    elif bluestring in path:\n",
    "        bluelist.append(path)\n",
    "            \n",
    "    print (redlist)\n",
    "    print(bluelist)\n",
    "    \n",
    "    \n",
    "    for file in path:\n",
    "        readfile = pd.read_csv(file, delimiter='\\t', header=None)\n",
    "        print(file)\n",
    "\n",
    "        \n",
    "        #Temperature_Read = file[-3:]\n",
    "        #T_aux = float(Temperature_Read)\n",
    "        #T = T_aux/10.\n",
    "        #print(T)\n",
    "        \n",
    "        # red cols: 10-12, blue: 2-4\n",
    "        readfile.columns = ['filename', 'time', 'blue_104' , 'blue_130' , 'blue_151', 'blue_check',\\\n",
    "                            'green_1' , 'green_2'      , 'green_3', 'green_check',  'red_104', 'red_130'     ,\\\n",
    "                            'red_151'   , 'red_check'    , 'temp','other'] \n",
    "        #blue wavelength = 440 nm, red = 660 nm\n",
    "\n",
    "        #print(blue)\n",
    "        #readfile.plot(a[1], a[2], title = 'test plot')\n",
    "        #plt.show()\n",
    "\n",
    "        b1 = readfile['blue_104'].astype('float32')\n",
    "        b2 = readfile['blue_130'].astype('float32')\n",
    "        b3 = readfile['blue_151'].astype('float32')\n",
    "\n",
    "        r1 = readfile['red_104'].astype('float32')\n",
    "        r2 = readfile['red_130'].astype('float32')\n",
    "        r3 = readfile['red_151'].astype('float32')\n",
    "\n",
    "        #Statistics\n",
    "        # mean \n",
    "        b1_mean = np.mean(b1)     ; b1_std = np.std(b1)\n",
    "        b2_mean = np.mean(b2)     ; b2_std = np.std(b2)\n",
    "        b3_mean = np.mean(b3)     ; b3_std = np.std(b3)\n",
    "        r1_mean = np.mean(r1)     ; r1_std = np.std(r1)\n",
    "        r2_mean = np.mean(r2)     ; r2_std = np.std(r2)\n",
    "        r3_mean = np.mean(r3)     ; r3_std = np.std(r3)\n",
    "\n",
    "        # Median- when you plot add HALF of te interquartile range on each side!!\n",
    "        b1_median = np.median(b1)     ; b1_iqr = np.percentile(b1, 75) - np.percentile(b1, 25)\n",
    "        b2_median = np.median(b2)     ; b2_iqr = np.percentile(b2, 75) - np.percentile(b2, 25)\n",
    "        b3_median = np.median(b3)     ; b3_iqr = np.percentile(b3, 75) - np.percentile(b3, 25)\n",
    "        r1_median = np.median(r1)     ; r1_iqr = np.percentile(r1, 75) - np.percentile(r1, 25)\n",
    "        r2_median = np.median(r2)     ; r2_iqr = np.percentile(r2, 75) - np.percentile(r2, 25)\n",
    "        r3_median = np.median(r3)     ; r3_iqr = np.percentile(r3, 75) - np.percentile(r3, 25)\n",
    "\n"
   ]
  },
  {
   "cell_type": "code",
   "execution_count": null,
   "metadata": {
    "collapsed": true
   },
   "outputs": [],
   "source": []
  },
  {
   "cell_type": "code",
   "execution_count": null,
   "metadata": {
    "collapsed": true
   },
   "outputs": [],
   "source": [
    "\n"
   ]
  },
  {
   "cell_type": "code",
   "execution_count": null,
   "metadata": {
    "collapsed": true
   },
   "outputs": [],
   "source": []
  },
  {
   "cell_type": "markdown",
   "metadata": {},
   "source": []
  },
  {
   "cell_type": "code",
   "execution_count": null,
   "metadata": {
    "collapsed": true
   },
   "outputs": [],
   "source": []
  },
  {
   "cell_type": "code",
   "execution_count": null,
   "metadata": {
    "collapsed": true
   },
   "outputs": [],
   "source": []
  },
  {
   "cell_type": "code",
   "execution_count": null,
   "metadata": {
    "collapsed": true
   },
   "outputs": [],
   "source": []
  },
  {
   "cell_type": "code",
   "execution_count": null,
   "metadata": {
    "collapsed": true
   },
   "outputs": [],
   "source": []
  },
  {
   "cell_type": "code",
   "execution_count": null,
   "metadata": {
    "collapsed": true
   },
   "outputs": [],
   "source": []
  },
  {
   "cell_type": "code",
   "execution_count": null,
   "metadata": {
    "collapsed": true
   },
   "outputs": [],
   "source": []
  },
  {
   "cell_type": "code",
   "execution_count": null,
   "metadata": {
    "collapsed": true
   },
   "outputs": [],
   "source": []
  },
  {
   "cell_type": "code",
   "execution_count": null,
   "metadata": {
    "collapsed": true
   },
   "outputs": [],
   "source": []
  },
  {
   "cell_type": "code",
   "execution_count": null,
   "metadata": {
    "collapsed": true
   },
   "outputs": [],
   "source": []
  },
  {
   "cell_type": "code",
   "execution_count": null,
   "metadata": {
    "collapsed": true
   },
   "outputs": [],
   "source": []
  }
 ],
 "metadata": {
  "kernelspec": {
   "display_name": "Python 2",
   "language": "python",
   "name": "python2"
  },
  "language_info": {
   "codemirror_mode": {
    "name": "ipython",
    "version": 2
   },
   "file_extension": ".py",
   "mimetype": "text/x-python",
   "name": "python",
   "nbconvert_exporter": "python",
   "pygments_lexer": "ipython2",
   "version": "2.7.13"
  }
 },
 "nbformat": 4,
 "nbformat_minor": 2
}
