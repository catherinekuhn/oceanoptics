{
 "cells": [
  {
   "cell_type": "markdown",
   "metadata": {},
   "source": [
    "# Ocean Optics 2017"
   ]
  },
  {
   "cell_type": "markdown",
   "metadata": {},
   "source": [
    "## BBTeenie CDOM Processing "
   ]
  },
  {
   "cell_type": "code",
   "execution_count": 47,
   "metadata": {},
   "outputs": [],
   "source": [
    "# This notebook was built in Catherine's root environment. (Sorry Don!) \n",
    "import pandas as pd\n",
    "from pandas import DataFrame\n",
    "import numpy as np\n",
    "import os\n",
    "import glob\n",
    "import datetime\n",
    "import pylab\n",
    "import matplotlib as plt\n",
    "import datetime as datetime  \n",
    "import statsmodels.api as sm  \n",
    "import matplotlib.pyplot as plt\n",
    "import seaborn as sns\n"
   ]
  },
  {
   "cell_type": "code",
   "execution_count": 48,
   "metadata": {
    "collapsed": true
   },
   "outputs": [],
   "source": [
    "%matplotlib inline"
   ]
  },
  {
   "cell_type": "code",
   "execution_count": 49,
   "metadata": {},
   "outputs": [
    {
     "name": "stdout",
     "output_type": "stream",
     "text": [
      "/Users/ckuhn/Documents/oceanoptics/project/data/BBTeenie\n"
     ]
    }
   ],
   "source": [
    "%pwd\n",
    "%cd /Users/ckuhn/Documents/oceanoptics/project/data/BBTeenie"
   ]
  },
  {
   "cell_type": "code",
   "execution_count": 50,
   "metadata": {},
   "outputs": [],
   "source": [
    "data = pd.read_table('BB_Teenie_Rescue.csv', low_memory=False, sep = ',')"
   ]
  },
  {
   "cell_type": "code",
   "execution_count": 51,
   "metadata": {},
   "outputs": [
    {
     "data": {
      "text/html": [
       "<div>\n",
       "<style>\n",
       "    .dataframe thead tr:only-child th {\n",
       "        text-align: right;\n",
       "    }\n",
       "\n",
       "    .dataframe thead th {\n",
       "        text-align: left;\n",
       "    }\n",
       "\n",
       "    .dataframe tbody tr th {\n",
       "        vertical-align: top;\n",
       "    }\n",
       "</style>\n",
       "<table border=\"1\" class=\"dataframe\">\n",
       "  <thead>\n",
       "    <tr style=\"text-align: right;\">\n",
       "      <th></th>\n",
       "      <th>Unnamed: 0</th>\n",
       "      <th>datetime</th>\n",
       "      <th>date</th>\n",
       "      <th>time</th>\n",
       "      <th>blue_wl</th>\n",
       "      <th>bb_blue_val</th>\n",
       "      <th>red_wl</th>\n",
       "      <th>bb_red_val</th>\n",
       "      <th>cdom_wl</th>\n",
       "      <th>cdom_val</th>\n",
       "      <th>notsure</th>\n",
       "      <th>site_no</th>\n",
       "      <th>reading_type</th>\n",
       "      <th>direction</th>\n",
       "      <th>setting</th>\n",
       "    </tr>\n",
       "  </thead>\n",
       "  <tbody>\n",
       "    <tr>\n",
       "      <th>0</th>\n",
       "      <td>0</td>\n",
       "      <td>7/27/17 18:14</td>\n",
       "      <td>7/27/17</td>\n",
       "      <td>18:14:16</td>\n",
       "      <td>440.0</td>\n",
       "      <td>4130.0</td>\n",
       "      <td>700.0</td>\n",
       "      <td>4130.0</td>\n",
       "      <td>460.0</td>\n",
       "      <td>4130.0</td>\n",
       "      <td>536.0</td>\n",
       "      <td>1.0</td>\n",
       "      <td>crap</td>\n",
       "      <td>NaN</td>\n",
       "      <td>field</td>\n",
       "    </tr>\n",
       "  </tbody>\n",
       "</table>\n",
       "</div>"
      ],
      "text/plain": [
       "   Unnamed: 0       datetime     date      time  blue_wl  bb_blue_val  red_wl  \\\n",
       "0           0  7/27/17 18:14  7/27/17  18:14:16    440.0       4130.0   700.0   \n",
       "\n",
       "   bb_red_val  cdom_wl  cdom_val  notsure  site_no reading_type direction  \\\n",
       "0      4130.0    460.0    4130.0    536.0      1.0         crap       NaN   \n",
       "\n",
       "  setting  \n",
       "0   field  "
      ]
     },
     "execution_count": 51,
     "metadata": {},
     "output_type": "execute_result"
    }
   ],
   "source": [
    "data.head(1)"
   ]
  },
  {
   "cell_type": "markdown",
   "metadata": {},
   "source": [
    "### Apply instrument calibration"
   ]
  },
  {
   "cell_type": "markdown",
   "metadata": {},
   "source": [
    "cdom(qse) = (counts - dark) * slope"
   ]
  },
  {
   "cell_type": "code",
   "execution_count": 52,
   "metadata": {
    "collapsed": true
   },
   "outputs": [],
   "source": [
    "cdom_scale_factor = 0.0906\n",
    "cdom_dark_counts = 48"
   ]
  },
  {
   "cell_type": "code",
   "execution_count": 53,
   "metadata": {},
   "outputs": [],
   "source": [
    "data['cdom_qse'] = cdom_scale_factor * (data.cdom_val - cdom_dark_counts)"
   ]
  },
  {
   "cell_type": "code",
   "execution_count": 54,
   "metadata": {},
   "outputs": [
    {
     "data": {
      "text/html": [
       "<div>\n",
       "<style>\n",
       "    .dataframe thead tr:only-child th {\n",
       "        text-align: right;\n",
       "    }\n",
       "\n",
       "    .dataframe thead th {\n",
       "        text-align: left;\n",
       "    }\n",
       "\n",
       "    .dataframe tbody tr th {\n",
       "        vertical-align: top;\n",
       "    }\n",
       "</style>\n",
       "<table border=\"1\" class=\"dataframe\">\n",
       "  <thead>\n",
       "    <tr>\n",
       "      <th></th>\n",
       "      <th></th>\n",
       "      <th colspan=\"2\" halign=\"left\">median</th>\n",
       "    </tr>\n",
       "    <tr>\n",
       "      <th></th>\n",
       "      <th></th>\n",
       "      <th>cdom_qse</th>\n",
       "      <th>cdom_val</th>\n",
       "    </tr>\n",
       "    <tr>\n",
       "      <th>site_no</th>\n",
       "      <th>setting</th>\n",
       "      <th></th>\n",
       "      <th></th>\n",
       "    </tr>\n",
       "  </thead>\n",
       "  <tbody>\n",
       "    <tr>\n",
       "      <th rowspan=\"2\" valign=\"top\">1.0</th>\n",
       "      <th>field</th>\n",
       "      <td>25.6398</td>\n",
       "      <td>331.0</td>\n",
       "    </tr>\n",
       "    <tr>\n",
       "      <th>lab</th>\n",
       "      <td>25.6398</td>\n",
       "      <td>331.0</td>\n",
       "    </tr>\n",
       "    <tr>\n",
       "      <th rowspan=\"2\" valign=\"top\">2.0</th>\n",
       "      <th>field</th>\n",
       "      <td>24.5526</td>\n",
       "      <td>319.0</td>\n",
       "    </tr>\n",
       "    <tr>\n",
       "      <th>lab</th>\n",
       "      <td>24.7338</td>\n",
       "      <td>321.0</td>\n",
       "    </tr>\n",
       "    <tr>\n",
       "      <th rowspan=\"2\" valign=\"top\">3.0</th>\n",
       "      <th>field</th>\n",
       "      <td>23.1936</td>\n",
       "      <td>304.0</td>\n",
       "    </tr>\n",
       "    <tr>\n",
       "      <th>lab</th>\n",
       "      <td>0.3624</td>\n",
       "      <td>52.0</td>\n",
       "    </tr>\n",
       "  </tbody>\n",
       "</table>\n",
       "</div>"
      ],
      "text/plain": [
       "                  median         \n",
       "                cdom_qse cdom_val\n",
       "site_no setting                  \n",
       "1.0     field    25.6398    331.0\n",
       "        lab      25.6398    331.0\n",
       "2.0     field    24.5526    319.0\n",
       "        lab      24.7338    321.0\n",
       "3.0     field    23.1936    304.0\n",
       "        lab       0.3624     52.0"
      ]
     },
     "execution_count": 54,
     "metadata": {},
     "output_type": "execute_result"
    }
   ],
   "source": [
    "pd.pivot_table(data,index=[\"site_no\", 'setting'], values = ['cdom_val', 'cdom_qse'], aggfunc=[np.median])"
   ]
  },
  {
   "cell_type": "markdown",
   "metadata": {},
   "source": [
    "### Compute the median"
   ]
  },
  {
   "cell_type": "code",
   "execution_count": 24,
   "metadata": {
    "collapsed": true
   },
   "outputs": [],
   "source": [
    "# Filter to light data\n",
    "data_light = data[data['reading_type'] == 'light']\n",
    "\n",
    "# Separate field and lab measurements\n",
    "lab = data_light[data_light['setting'] == 'lab']\n",
    "field = data_light[data_light['setting'] == 'field']\n",
    "\n",
    "# Filter each sampling site out\n",
    "site1_field = field[field['site_no'] == 1]\n",
    "site2_field = field[field['site_no'] == 2]\n",
    "site3_field = field[field['site_no'] == 3]\n",
    "\n",
    "site1_lab = lab[lab['site_no'] == 1]\n",
    "site2_lab = lab[lab['site_no'] == 2]\n",
    "site3_lab = lab[lab['site_no'] == 3]"
   ]
  },
  {
   "cell_type": "code",
   "execution_count": 29,
   "metadata": {},
   "outputs": [],
   "source": [
    "site1_field_cdom = site1_field['cdom_qse']\n",
    "site2_field_cdom = site2_field['cdom_qse']\n",
    "site3_field_cdom = site3_field['cdom_qse']\n",
    "\n",
    "site1_lab_cdom = site1_lab['cdom_qse']\n",
    "site2_lab_cdom = site2_lab['cdom_qse']\n",
    "site3_lab_cdom = site3_lab['cdom_qse']"
   ]
  },
  {
   "cell_type": "code",
   "execution_count": 32,
   "metadata": {},
   "outputs": [],
   "source": [
    "site1_field_med = site1_field_cdom.median()\n",
    "site2_field_med  = site2_field_cdom.median()\n",
    "site3_field_med  = site3_field_cdom.median()\n",
    "\n",
    "site1_lab_med = site1_lab_cdom.median()\n",
    "site2_lab_med  = site2_lab_cdom.median()\n",
    "site3_lab_med  = site3_lab_cdom.median()\n",
    "\n",
    "site1_field_sd = site1_field_cdom.std()\n",
    "site2_field_sd  = site2_field_cdom.std()\n",
    "site3_field_sd  = site3_field_cdom.std()\n",
    "\n",
    "site1_lab_sd = site1_lab_cdom.std()\n",
    "site2_lab_sd  = site2_lab_cdom.std()\n",
    "site3_lab_sd  = site3_lab_cdom.std()"
   ]
  },
  {
   "cell_type": "markdown",
   "metadata": {},
   "source": [
    "### Plot some shit"
   ]
  },
  {
   "cell_type": "code",
   "execution_count": 43,
   "metadata": {},
   "outputs": [
    {
     "data": {
      "text/plain": [
       "<matplotlib.figure.Figure at 0x11fcf3ed0>"
      ]
     },
     "metadata": {},
     "output_type": "display_data"
    },
    {
     "data": {
      "image/png": "[encoded data removed]",
      "text/plain": [
       "<matplotlib.figure.Figure at 0x11fcf3e10>"
      ]
     },
     "metadata": {},
     "output_type": "display_data"
    }
   ],
   "source": [
    "sns.set(style=\"white\")\n",
    "sns.set_context(\"talk\", font_scale=2)   \n",
    "plt.figure(figsize=(3.1, 3)) # Two column paper. Each column is about 3.15 inch wide.                                                                                                                                                                                                                                 \n",
    "\n",
    "fig = plt.figure()\n",
    "ax = fig.add_subplot(111)\n",
    "\n",
    "## the data\n",
    "N = 3\n",
    "\n",
    "fieldMeans_700 = [site1_field_med, site2_field_med, site3_field_med]\n",
    "fieldStd_700  =   [site1_field_sd, site2_field_sd, site3_field_sd]\n",
    "labMeans_700  = [site1_lab_med, site2_lab_med, site3_lab_med]\n",
    "labStd_700  =   [site1_lab_sd, site2_lab_sd, site3_lab_sd]\n",
    "\n",
    "## necessary variables\n",
    "ind = np.arange(N)                # the x locations for the groups\n",
    "width = 0.35                      # the width of the bars\n",
    "\n",
    "## the bars\n",
    "rects1 = ax.bar(ind, fieldMeans_700 , width,\n",
    "                color='#66c2a5',\n",
    "                yerr=fieldStd_700 ,\n",
    "                error_kw=dict(elinewidth=1,ecolor='black'))\n",
    "\n",
    "rects2 = ax.bar(ind+width, labMeans_700 , width,\n",
    "                    color='#fc8d62',\n",
    "                    yerr=labStd_700 ,\n",
    "                    error_kw=dict(elinewidth=1,ecolor='black'))\n",
    "\n",
    "# axes and labels\n",
    "ax.set_xlim(-width,len(ind)+width)\n",
    "#ax.set_ylim(0,45)\n",
    "ax.set_ylabel(r'CDOM (QSE)')\n",
    "#ax.set_title('Scores by site and time of measurement')\n",
    "xTickMarks = ['Site '+str(i) for i in range(1,6)]\n",
    "ax.set_xticks(ind+width)\n",
    "xtickNames = ax.set_xticklabels(xTickMarks)\n",
    "plt.setp(xtickNames, rotation=45)\n",
    "\n",
    "## add a legend\n",
    "ax.legend( (rects1[0], rects2[0]), ('Field', 'Lab') )\n",
    "plt.show()"
   ]
  },
  {
   "cell_type": "code",
   "execution_count": null,
   "metadata": {
    "collapsed": true
   },
   "outputs": [],
   "source": []
  }
 ],
 "metadata": {
  "kernelspec": {
   "display_name": "Python 2",
   "language": "python",
   "name": "python2"
  },
  "language_info": {
   "codemirror_mode": {
    "name": "ipython",
    "version": 2
   },
   "file_extension": ".py",
   "mimetype": "text/x-python",
   "name": "python",
   "nbconvert_exporter": "python",
   "pygments_lexer": "ipython2",
   "version": "2.7.13"
  }
 },
 "nbformat": 4,
 "nbformat_minor": 2
}
