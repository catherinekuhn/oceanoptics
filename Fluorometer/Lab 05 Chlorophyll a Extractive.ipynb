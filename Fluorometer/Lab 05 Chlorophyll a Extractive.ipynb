{
 "cells": [
  {
   "cell_type": "markdown",
   "metadata": {},
   "source": [
    "# OceanOptics 2017\n",
    "# Lab 5: Extracted Chlorophyll-a \n"
   ]
  },
  {
   "cell_type": "markdown",
   "metadata": {},
   "source": [
    "The purpose of this notebook is to calculate chlorophyll-a and pheophyton from our extracted chlorophyll-a samples that we have extracted. We will also propagate instrument uncertainty, compute the standard deviation of the replicates, and compare results bewrtwqeen students. Finally, we will calculate chlorophyll-a specific absorption coefficients for DRE samples. "
   ]
  },
  {
   "cell_type": "code",
   "execution_count": 1,
   "metadata": {},
   "outputs": [
    {
     "name": "stderr",
     "output_type": "stream",
     "text": [
      "C:\\Users\\elena\\Anaconda3\\lib\\site-packages\\statsmodels\\compat\\pandas.py:56: FutureWarning: The pandas.core.datetools module is deprecated and will be removed in a future version. Please use the pandas.tseries module instead.\n",
      "  from pandas.core import datetools\n"
     ]
    }
   ],
   "source": [
    "# This notebook was built in Catherine's root environment. (Sorry Don!) \n",
    "# authors:\n",
    "# Catherine Kuhn\n",
    "# Elena Terzić\n",
    "# Brian Lamb\n",
    "import pandas as pd\n",
    "from pandas import DataFrame\n",
    "import numpy as np\n",
    "import os\n",
    "import glob\n",
    "import datetime\n",
    "import pylab\n",
    "import matplotlib as plt\n",
    "import datetime as datetime  \n",
    "import statsmodels.api as sm  \n",
    "import matplotlib.pyplot as plt\n",
    "import seaborn as sns"
   ]
  },
  {
   "cell_type": "code",
   "execution_count": 2,
   "metadata": {
    "collapsed": true
   },
   "outputs": [],
   "source": [
    "%matplotlib inline"
   ]
  },
  {
   "cell_type": "markdown",
   "metadata": {},
   "source": [
    "### Import the data"
   ]
  },
  {
   "cell_type": "code",
   "execution_count": 3,
   "metadata": {},
   "outputs": [
    {
     "name": "stdout",
     "output_type": "stream",
     "text": [
      "[WinError 3] The system cannot find the path specified: '/Users/ckuhn/Documents/oceanoptics/Labs/Lab05/ # set to your working directory'\n",
      "C:\\Users\\elena\\Dropbox\\oceanoptics2017_students\\Lab5_ap\\Fluorometer\n"
     ]
    }
   ],
   "source": [
    "%cd /Users/ckuhn/Documents/oceanoptics/Labs/Lab05/ # set to your working directory"
   ]
  },
  {
   "cell_type": "markdown",
   "metadata": {},
   "source": [
    "This .csv contains the chl a and pheo a already calculated from the spreadsheet that was given to use by our amazing TA Jordan"
   ]
  },
  {
   "cell_type": "code",
   "execution_count": 4,
   "metadata": {
    "collapsed": true
   },
   "outputs": [],
   "source": [
    "data = pd.read_csv('fluorometer_data.csv', delimiter='\\t')"
   ]
  },
  {
   "cell_type": "code",
   "execution_count": 5,
   "metadata": {},
   "outputs": [
    {
     "data": {
      "text/plain": [
       "'C:\\\\Users\\\\elena\\\\Dropbox\\\\oceanoptics2017_students\\\\Lab5_ap\\\\Fluorometer'"
      ]
     },
     "execution_count": 5,
     "metadata": {},
     "output_type": "execute_result"
    }
   ],
   "source": [
    "% pwd"
   ]
  },
  {
   "cell_type": "markdown",
   "metadata": {},
   "source": [
    "# Set your global variables"
   ]
  },
  {
   "cell_type": "code",
   "execution_count": 9,
   "metadata": {
    "collapsed": true
   },
   "outputs": [],
   "source": [
    "# Uncertainty terms:\n",
    "    \n",
    "# sigma K given in the lab\n",
    "\n",
    "sigma_K = 0.03\n",
    "    \n",
    "# These numbers are the uncertainty associated with when the instrument read the chla and pheo during calibration. \n",
    "# We are ballparking these numbers\n",
    "\n",
    "sigma_phi_chla = 3.\n",
    "sigma_phi_pheo = 1.5\n",
    "\n",
    "phi_chla = 500.  # these are the conc associated with the standards \n",
    "phi_pheo = 250.  # these are the conc associated with the standards\n",
    "    \n",
    "# These numbers are the uncertainty we observed when we were taking measurements. The initial chlorophyll and final \n",
    "# chlorophyll \n",
    "\n",
    "sigma_F_init  = 3.\n",
    "sigma_F_final = 1.5\n",
    "       \n",
    "# These are the calibration coefficients that we pulled from the lab spreadsheet from the last calibration, which was \n",
    "# conducted on April 27, 2012\n",
    "    \n",
    "K = 0.36 \n",
    "A = 1.88\n",
    "\n",
    "# Volumes\n",
    "\n",
    "sigma_v = 0.0005   # let's say we spilled 0.5 mL\n",
    "sigma_V = 0.005   # let's say we spilled 5 mL\n",
    "\n",
    "v = 0.005  # acetone\n",
    "V = 0.289  # volume of water filtered for the sample  "
   ]
  },
  {
   "cell_type": "markdown",
   "metadata": {},
   "source": [
    "### Add in your sample information"
   ]
  },
  {
   "cell_type": "code",
   "execution_count": null,
   "metadata": {},
   "outputs": [],
   "source": [
    "data.head()"
   ]
  },
  {
   "cell_type": "code",
   "execution_count": null,
   "metadata": {},
   "outputs": [],
   "source": [
    "#data.Fa.astype(np.float64)\n",
    "#data.Fo.astype(np.float64)"
   ]
  },
  {
   "cell_type": "code",
   "execution_count": null,
   "metadata": {
    "collapsed": true
   },
   "outputs": [],
   "source": []
  },
  {
   "cell_type": "markdown",
   "metadata": {},
   "source": [
    "Brian, this is how it works! WOW!"
   ]
  },
  {
   "cell_type": "code",
   "execution_count": null,
   "metadata": {
    "collapsed": true
   },
   "outputs": [],
   "source": [
    "varNo = 0 # change this to your sample number!\n",
    "\n",
    "f_init = data['Fo'][varNo]\n",
    "f_acid = data['Fa'][varNo]\n",
    "chla_ugL = data['chl_ugL'][varNo]\n",
    "pheo_ugL = data['phaeo_ugL'][varNo]"
   ]
  },
  {
   "cell_type": "code",
   "execution_count": null,
   "metadata": {},
   "outputs": [],
   "source": [
    "print ('initial F = ', f_init)\n",
    "print ('acid F =', f_acid)\n",
    "print ('chla_ug/L =', chla_ugL)\n",
    "print ('pheo_ug/L =', pheo_ugL)"
   ]
  },
  {
   "cell_type": "markdown",
   "metadata": {},
   "source": [
    "Compute the uncertainty in your acid ratio (A)"
   ]
  },
  {
   "cell_type": "code",
   "execution_count": null,
   "metadata": {},
   "outputs": [],
   "source": [
    "sigma_A = 1/A * np.sqrt(((sigma_phi_chla/phi_chla)**2) + ((sigma_phi_pheo/phi_pheo)**2))\n",
    "print ('sigma_A=', sigma_A)"
   ]
  },
  {
   "cell_type": "markdown",
   "metadata": {},
   "source": [
    "Compute the uncertainty in your sigma A/A-1"
   ]
  },
  {
   "cell_type": "code",
   "execution_count": null,
   "metadata": {},
   "outputs": [],
   "source": [
    "sigma_AoverAminus1 = 1/ (A/(A-1)) * np.sqrt (((sigma_A/A)**2) + ((sigma_A/A)**2))\n",
    "print(sigma_AoverAminus1)"
   ]
  },
  {
   "cell_type": "markdown",
   "metadata": {},
   "source": [
    "Uncertainty in the flourescence readings"
   ]
  },
  {
   "cell_type": "code",
   "execution_count": null,
   "metadata": {},
   "outputs": [],
   "source": [
    "sigma_Finit_minus_Ffinal = np.sqrt (((sigma_F_init)**2) + ((sigma_F_final)**2))\n",
    "print(sigma_Finit_minus_Ffinal)"
   ]
  },
  {
   "cell_type": "code",
   "execution_count": null,
   "metadata": {},
   "outputs": [],
   "source": [
    "sigma_vV = sigma_v/sigma_V\n",
    "print(sigma_vV)"
   ]
  },
  {
   "cell_type": "code",
   "execution_count": null,
   "metadata": {
    "collapsed": true
   },
   "outputs": [],
   "source": [
    "sigma_chla = 1/chla_ugL * np.sqrt (((sigma_K/K)**2) + (sigma_AoverAminus1/ (A/(A-1))**2)\n",
    "                                         + (sigma_Finit_minus_Ffinal/(f_init-f_acid)**2) \n",
    "                                         + ((sigma_vV/(v/V))**2))"
   ]
  },
  {
   "cell_type": "markdown",
   "metadata": {},
   "source": [
    "## What the fuck is our uncertainty?"
   ]
  },
  {
   "cell_type": "code",
   "execution_count": 10,
   "metadata": {},
   "outputs": [
    {
     "ename": "NameError",
     "evalue": "name 'sigma_A' is not defined",
     "output_type": "error",
     "traceback": [
      "\u001b[1;31m---------------------------------------------------------------------------\u001b[0m",
      "\u001b[1;31mNameError\u001b[0m                                 Traceback (most recent call last)",
      "\u001b[1;32m<ipython-input-10-80577a92e2b9>\u001b[0m in \u001b[0;36m<module>\u001b[1;34m()\u001b[0m\n\u001b[1;32m----> 1\u001b[1;33m \u001b[0mprint\u001b[0m\u001b[1;33m(\u001b[0m\u001b[0msigma_A\u001b[0m\u001b[1;33m)\u001b[0m  \u001b[1;31m# from calibration\u001b[0m\u001b[1;33m\u001b[0m\u001b[0m\n\u001b[0m\u001b[0;32m      2\u001b[0m \u001b[0mprint\u001b[0m\u001b[1;33m(\u001b[0m\u001b[0msigma_K\u001b[0m\u001b[1;33m)\u001b[0m   \u001b[1;31m# more calibration error\u001b[0m\u001b[1;33m\u001b[0m\u001b[0m\n\u001b[0;32m      3\u001b[0m \u001b[0mprint\u001b[0m\u001b[1;33m(\u001b[0m\u001b[0msigma_vV\u001b[0m\u001b[1;33m)\u001b[0m \u001b[1;31m# from measuring water volume\u001b[0m\u001b[1;33m\u001b[0m\u001b[0m\n\u001b[0;32m      4\u001b[0m \u001b[0mprint\u001b[0m \u001b[1;33m(\u001b[0m\u001b[0msigma_Finit_minus_Ffinal\u001b[0m\u001b[1;33m)\u001b[0m \u001b[1;31m# uncertainty in our lab readings\u001b[0m\u001b[1;33m\u001b[0m\u001b[0m\n\u001b[0;32m      5\u001b[0m \u001b[1;33m\u001b[0m\u001b[0m\n",
      "\u001b[1;31mNameError\u001b[0m: name 'sigma_A' is not defined"
     ]
    }
   ],
   "source": [
    "print(sigma_A)  # from calibration\n",
    "print(sigma_K)   # more calibration error\n",
    "print(sigma_vV) # from measuring water volume\n",
    "print (sigma_Finit_minus_Ffinal) # uncertainty in our lab readings\n",
    "\n",
    "print ('final error:', sigma_chla) # total problems"
   ]
  },
  {
   "cell_type": "code",
   "execution_count": 11,
   "metadata": {},
   "outputs": [
    {
     "ename": "NameError",
     "evalue": "name 'sigma_chla' is not defined",
     "output_type": "error",
     "traceback": [
      "\u001b[1;31m---------------------------------------------------------------------------\u001b[0m",
      "\u001b[1;31mNameError\u001b[0m                                 Traceback (most recent call last)",
      "\u001b[1;32m<ipython-input-11-96f7f72d29b6>\u001b[0m in \u001b[0;36m<module>\u001b[1;34m()\u001b[0m\n\u001b[1;32m----> 1\u001b[1;33m \u001b[0mdata\u001b[0m\u001b[1;33m[\u001b[0m\u001b[1;34m'total_error_chla'\u001b[0m\u001b[1;33m]\u001b[0m \u001b[1;33m=\u001b[0m \u001b[0msigma_chla\u001b[0m\u001b[1;33m\u001b[0m\u001b[0m\n\u001b[0m",
      "\u001b[1;31mNameError\u001b[0m: name 'sigma_chla' is not defined"
     ]
    }
   ],
   "source": [
    "data['total_error_chla'] = sigma_chla"
   ]
  },
  {
   "cell_type": "code",
   "execution_count": null,
   "metadata": {
    "collapsed": true
   },
   "outputs": [],
   "source": [
    "#errors = pd.Dataframe(sigma_A,sigma_K, sigma_vV, sigma_Finit_minus_Ffinal)\n",
    "#my_list =  [sigma_A,sigma_K, sigma_vV, sigma_Finit_minus_Ffinal]"
   ]
  },
  {
   "cell_type": "code",
   "execution_count": null,
   "metadata": {
    "collapsed": true
   },
   "outputs": [],
   "source": []
  },
  {
   "cell_type": "code",
   "execution_count": 22,
   "metadata": {},
   "outputs": [
    {
     "name": "stdout",
     "output_type": "stream",
     "text": [
      "590\n",
      "573\n",
      "536\n",
      "638\n",
      "609\n",
      "594\n",
      "541\n",
      "340\n",
      "589\n",
      "569\n",
      "563\n",
      "623\n",
      "538\n",
      "606\n",
      "590\n",
      "582\n",
      "594\n",
      "381\n",
      "591\n",
      "573\n",
      "575\n",
      "577\n",
      "546\n",
      "531\n",
      "536\n",
      "516\n",
      "546\n",
      "580\n",
      "604\n",
      "154\n",
      "667\n",
      "633\n",
      "603\n",
      "652\n",
      "547\n",
      "723\n",
      "654\n",
      "733\n",
      "599\n",
      "707\n",
      "611\n",
      "384\n",
      "645\n",
      "690\n",
      "691\n",
      "486\n",
      "436\n",
      "454\n",
      "404\n",
      "449\n",
      "428\n",
      "541\n",
      "424\n",
      "426\n",
      "461\n",
      "443\n",
      "442\n",
      "487\n",
      "495\n"
     ]
    }
   ],
   "source": [
    "# One formula to rule them all \n",
    "sigma_A_ls = []\n",
    "sigma_AoverAminus1_ls = []\n",
    "sigma_Finit_minus_Ffinal_ls = []\n",
    "sigma_vV_ls = []\n",
    "sigma_chla_ls =[]\n",
    "\n",
    "for row in range (len(data)):\n",
    "    \n",
    "# Extract measurements from sheet\n",
    "    f_init = data['Fo'][row]\n",
    "    f_init = np.asarray(f_init)\n",
    "    print(f_init)\n",
    "    f_acid = data['Fa'][row]\n",
    "    f_acid = np.asarray(f_acid)\n",
    "    chla_ugL = data['chl_ugL'][row]\n",
    "    chla_ugL = np.asarray(chla_ugL)\n",
    "    pheo_ugL = data['phaeo_ugL'][row]\n",
    "    pheo_ugL = np.asarray(pheo_ugL)\n",
    "    V        = data['V_sample_L'][row]\n",
    "    V        = np.asarray(V)\n",
    "    v        = data['v_acetone_L'][row].astype(np.float64)\n",
    "    v   \n",
    "\n",
    "# Compute sigmas\n",
    "    sigma_A = 1./A * np.sqrt(((sigma_phi_chla/phi_chla)**2.) + ((sigma_phi_pheo/phi_pheo)**2.))\n",
    "   \n",
    "    sigma_AoverAminus1 = 1./ (A/(A-1)) * np.sqrt (((sigma_A/A)**2) + ((sigma_A/A)**2.))\n",
    "    sigma_Finit_minus_Ffinal = np.sqrt (((sigma_F_init)**2.) + ((sigma_F_final)**2))\n",
    "    sigma_vV = sigma_v/sigma_V\n",
    "    sigma_chla = 1./chla_ugL * np.sqrt (((sigma_K/K)**2) + (sigma_AoverAminus1/ (A/(A-1.))**2.)\n",
    "                                             + (sigma_Finit_minus_Ffinal/(f_init-f_acid)**2.) \n",
    "                                             + ((sigma_vV/(v/V))**2))\n",
    "    sigma_A_ls.append(sigma_A)\n",
    "    sigma_AoverAminus1_ls.append(sigma_AoverAminus1)\n",
    "    sigma_Finit_minus_Ffinal_ls.append(sigma_Finit_minus_Ffinal)\n",
    "    sigma_vV_ls.append(sigma_vV)\n",
    "    sigma_chla_ls.append(sigma_chla)\n",
    "\n"
   ]
  },
  {
   "cell_type": "code",
   "execution_count": 19,
   "metadata": {},
   "outputs": [
    {
     "data": {
      "text/plain": [
       "[0.0015892432312686012,\n",
       " 0.0015892432312686012,\n",
       " 0.0015892432312686012,\n",
       " 0.0015892432312686012,\n",
       " 0.0015892432312686012,\n",
       " 0.0015892432312686012,\n",
       " 0.0015892432312686012,\n",
       " 0.0015892432312686012,\n",
       " 0.0015892432312686012,\n",
       " 0.0015892432312686012,\n",
       " 0.0015892432312686012,\n",
       " 0.0015892432312686012,\n",
       " 0.0015892432312686012,\n",
       " 0.0015892432312686012,\n",
       " 0.0015892432312686012,\n",
       " 0.0015892432312686012,\n",
       " 0.0015892432312686012,\n",
       " 0.0015892432312686012,\n",
       " 0.0015892432312686012,\n",
       " 0.0015892432312686012,\n",
       " 0.0015892432312686012,\n",
       " 0.0015892432312686012,\n",
       " 0.0015892432312686012,\n",
       " 0.0015892432312686012,\n",
       " 0.0015892432312686012,\n",
       " 0.0015892432312686012,\n",
       " 0.0015892432312686012,\n",
       " 0.0015892432312686012,\n",
       " 0.0015892432312686012,\n",
       " 0.0015892432312686012,\n",
       " 0.0015892432312686012,\n",
       " 0.0015892432312686012,\n",
       " 0.0015892432312686012,\n",
       " 0.0015892432312686012,\n",
       " 0.0015892432312686012,\n",
       " 0.0015892432312686012,\n",
       " 0.0015892432312686012,\n",
       " 0.0015892432312686012,\n",
       " 0.0015892432312686012,\n",
       " 0.0015892432312686012,\n",
       " 0.0015892432312686012,\n",
       " 0.0015892432312686012,\n",
       " 0.0015892432312686012,\n",
       " 0.0015892432312686012,\n",
       " 0.0015892432312686012,\n",
       " 0.0015892432312686012,\n",
       " 0.0015892432312686012,\n",
       " 0.0015892432312686012,\n",
       " 0.0015892432312686012,\n",
       " 0.0015892432312686012,\n",
       " 0.0015892432312686012,\n",
       " 0.0015892432312686012,\n",
       " 0.0015892432312686012,\n",
       " 0.0015892432312686012,\n",
       " 0.0015892432312686012,\n",
       " 0.0015892432312686012,\n",
       " 0.0015892432312686012,\n",
       " 0.0015892432312686012,\n",
       " 0.0015892432312686012]"
      ]
     },
     "execution_count": 19,
     "metadata": {},
     "output_type": "execute_result"
    }
   ],
   "source": [
    "sigma_AoverAminus1_ls"
   ]
  },
  {
   "cell_type": "code",
   "execution_count": 17,
   "metadata": {},
   "outputs": [
    {
     "name": "stdout",
     "output_type": "stream",
     "text": [
      "0\n",
      "1\n",
      "2\n",
      "3\n",
      "4\n",
      "5\n",
      "6\n",
      "7\n",
      "8\n",
      "9\n",
      "10\n",
      "11\n",
      "12\n",
      "13\n",
      "14\n",
      "15\n",
      "16\n",
      "17\n",
      "18\n",
      "19\n",
      "20\n",
      "21\n",
      "22\n",
      "23\n",
      "24\n",
      "25\n",
      "26\n",
      "27\n",
      "28\n",
      "29\n",
      "30\n",
      "31\n",
      "32\n",
      "33\n",
      "34\n",
      "35\n",
      "36\n",
      "37\n",
      "38\n",
      "39\n",
      "40\n",
      "41\n",
      "42\n",
      "43\n",
      "44\n",
      "45\n",
      "46\n",
      "47\n",
      "48\n",
      "49\n",
      "50\n",
      "51\n",
      "52\n",
      "53\n",
      "54\n",
      "55\n",
      "56\n",
      "57\n",
      "58\n"
     ]
    }
   ],
   "source": [
    "for row in range (len(data)):\n",
    "    print (row)"
   ]
  },
  {
   "cell_type": "markdown",
   "metadata": {},
   "source": []
  },
  {
   "cell_type": "code",
   "execution_count": null,
   "metadata": {},
   "outputs": [],
   "source": []
  },
  {
   "cell_type": "code",
   "execution_count": null,
   "metadata": {
    "collapsed": true
   },
   "outputs": [],
   "source": []
  },
  {
   "cell_type": "code",
   "execution_count": null,
   "metadata": {
    "collapsed": true
   },
   "outputs": [],
   "source": []
  }
 ],
 "metadata": {
  "kernelspec": {
   "display_name": "Python 3",
   "language": "python",
   "name": "python3"
  },
  "language_info": {
   "codemirror_mode": {
    "name": "ipython",
    "version": 3
   },
   "file_extension": ".py",
   "mimetype": "text/x-python",
   "name": "python",
   "nbconvert_exporter": "python",
   "pygments_lexer": "ipython3",
   "version": "3.6.1"
  }
 },
 "nbformat": 4,
 "nbformat_minor": 2
}
