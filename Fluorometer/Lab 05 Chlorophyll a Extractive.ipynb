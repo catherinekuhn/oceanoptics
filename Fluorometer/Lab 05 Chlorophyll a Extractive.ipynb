{
 "cells": [
  {
   "cell_type": "markdown",
   "metadata": {},
   "source": [
    "# OceanOptics 2017\n",
    "# Lab 5: Extracted Chlorophyll-a \n"
   ]
  },
  {
   "cell_type": "markdown",
   "metadata": {},
   "source": [
    "The purpose of this notebook is to calculate chlorophyll-a and pheophyton from our extracted chlorophyll-a samples that we have extracted. We will also propagate instrument uncertainty, compute the standard deviation of the replicates, and compare results bewrtwqeen students. Finally, we will calculate chlorophyll-a specific absorption coefficients for DRE samples. "
   ]
  },
  {
   "cell_type": "code",
   "execution_count": 8,
   "metadata": {},
   "outputs": [],
   "source": [
    "# This notebook was built in Catherine's root environment.  \n",
    "# authors:\n",
    "# Catherine Kuhn\n",
    "# Elena Terzić\n",
    "# Brian Lamb\n",
    "import pandas as pd\n",
    "from pandas import DataFrame\n",
    "import numpy as np\n",
    "import os\n",
    "import glob\n",
    "import datetime\n",
    "import pylab\n",
    "import matplotlib as plt\n",
    "import datetime as datetime  \n",
    "import statsmodels.api as sm  \n",
    "import matplotlib.pyplot as plt\n",
    "#import seaborn as sns"
   ]
  },
  {
   "cell_type": "code",
   "execution_count": 9,
   "metadata": {
    "collapsed": true
   },
   "outputs": [],
   "source": [
    "%matplotlib inline"
   ]
  },
  {
   "cell_type": "markdown",
   "metadata": {},
   "source": [
    "### Import the data"
   ]
  },
  {
   "cell_type": "code",
   "execution_count": 10,
   "metadata": {},
   "outputs": [
    {
     "name": "stdout",
     "output_type": "stream",
     "text": [
      "[WinError 3] The system cannot find the path specified: '/Users/ckuhn/Documents/oceanoptics/Labs/Lab05/ # set to your working directory'\n",
      "C:\\Users\\elena\\Dropbox\\oceanoptics2017_students\\Lab5_ap\\Fluorometer\n"
     ]
    }
   ],
   "source": [
    "%cd /Users/ckuhn/Documents/oceanoptics/Labs/Lab05/ # set to your working directory"
   ]
  },
  {
   "cell_type": "markdown",
   "metadata": {},
   "source": [
    "This .csv contains the chl a and pheo a already calculated from the spreadsheet that was given to use by our amazing TA Jordan"
   ]
  },
  {
   "cell_type": "code",
   "execution_count": 11,
   "metadata": {
    "collapsed": true
   },
   "outputs": [],
   "source": [
    "data = pd.read_csv('fluorometer_data_for_elena.csv', delimiter=',')"
   ]
  },
  {
   "cell_type": "markdown",
   "metadata": {},
   "source": [
    "# Set your global variables"
   ]
  },
  {
   "cell_type": "code",
   "execution_count": 12,
   "metadata": {
    "collapsed": true
   },
   "outputs": [],
   "source": [
    "# Uncertainty terms:\n",
    "    \n",
    "# sigma K given in the lab\n",
    "\n",
    "sigma_K = 0.03\n",
    "    \n",
    "# These numbers are the uncertainty associated with when the instrument read the chla and pheo during calibration. \n",
    "# We are ballparking these numbers\n",
    "\n",
    "sigma_phi_chla = 3.\n",
    "sigma_phi_pheo = 1.5\n",
    "\n",
    "phi_chla = 500.  # these are the conc associated with the standards \n",
    "phi_pheo = 250.  # these are the conc associated with the standards\n",
    "    \n",
    "# These numbers are the uncertainty we observed when we were taking measurements. The initial chlorophyll and final \n",
    "# chlorophyll \n",
    "\n",
    "sigma_F_init  = 3.\n",
    "sigma_F_final = 1.5\n",
    "       \n",
    "# These are the calibration coefficients that we pulled from the lab spreadsheet from the last calibration, which was \n",
    "# conducted on April 27, 2012\n",
    "    \n",
    "K = 0.36 \n",
    "A = 1.88\n",
    "\n",
    "# Volumes\n",
    "\n",
    "sigma_v = 0.0005   # let's say we spilled 0.5 mL\n",
    "sigma_V = 0.005   # let's say we spilled 5 mL\n",
    "\n",
    "v = 0.005  # acetone\n",
    "V = 0.289  # volume of water filtered for the sample  "
   ]
  },
  {
   "cell_type": "markdown",
   "metadata": {},
   "source": [
    "### Add in your sample information"
   ]
  },
  {
   "cell_type": "code",
   "execution_count": 13,
   "metadata": {},
   "outputs": [
    {
     "data": {
      "text/html": [
       "<div>\n",
       "<style>\n",
       "    .dataframe thead tr:only-child th {\n",
       "        text-align: right;\n",
       "    }\n",
       "\n",
       "    .dataframe thead th {\n",
       "        text-align: left;\n",
       "    }\n",
       "\n",
       "    .dataframe tbody tr th {\n",
       "        vertical-align: top;\n",
       "    }\n",
       "</style>\n",
       "<table border=\"1\" class=\"dataframe\">\n",
       "  <thead>\n",
       "    <tr style=\"text-align: right;\">\n",
       "      <th></th>\n",
       "      <th>filter_date</th>\n",
       "      <th>v_acetone_L</th>\n",
       "      <th>V_sample_L</th>\n",
       "      <th>Fo</th>\n",
       "      <th>Fa</th>\n",
       "      <th>chl_ugL</th>\n",
       "      <th>phaeo_ugL</th>\n",
       "    </tr>\n",
       "  </thead>\n",
       "  <tbody>\n",
       "    <tr>\n",
       "      <th>0</th>\n",
       "      <td>7/12/17</td>\n",
       "      <td>0.005</td>\n",
       "      <td>0.289</td>\n",
       "      <td>590</td>\n",
       "      <td>358</td>\n",
       "      <td>3.07</td>\n",
       "      <td>2.20</td>\n",
       "    </tr>\n",
       "    <tr>\n",
       "      <th>1</th>\n",
       "      <td>7/12/17</td>\n",
       "      <td>0.005</td>\n",
       "      <td>0.289</td>\n",
       "      <td>573</td>\n",
       "      <td>345</td>\n",
       "      <td>3.02</td>\n",
       "      <td>2.00</td>\n",
       "    </tr>\n",
       "    <tr>\n",
       "      <th>2</th>\n",
       "      <td>7/12/17</td>\n",
       "      <td>0.005</td>\n",
       "      <td>0.289</td>\n",
       "      <td>536</td>\n",
       "      <td>330</td>\n",
       "      <td>2.72</td>\n",
       "      <td>2.23</td>\n",
       "    </tr>\n",
       "    <tr>\n",
       "      <th>3</th>\n",
       "      <td>7/12/17</td>\n",
       "      <td>0.005</td>\n",
       "      <td>0.289</td>\n",
       "      <td>638</td>\n",
       "      <td>389</td>\n",
       "      <td>3.29</td>\n",
       "      <td>2.47</td>\n",
       "    </tr>\n",
       "    <tr>\n",
       "      <th>4</th>\n",
       "      <td>7/12/17</td>\n",
       "      <td>0.005</td>\n",
       "      <td>0.290</td>\n",
       "      <td>609</td>\n",
       "      <td>363</td>\n",
       "      <td>3.24</td>\n",
       "      <td>1.94</td>\n",
       "    </tr>\n",
       "  </tbody>\n",
       "</table>\n",
       "</div>"
      ],
      "text/plain": [
       "  filter_date  v_acetone_L  V_sample_L   Fo   Fa  chl_ugL  phaeo_ugL\n",
       "0     7/12/17        0.005       0.289  590  358     3.07       2.20\n",
       "1     7/12/17        0.005       0.289  573  345     3.02       2.00\n",
       "2     7/12/17        0.005       0.289  536  330     2.72       2.23\n",
       "3     7/12/17        0.005       0.289  638  389     3.29       2.47\n",
       "4     7/12/17        0.005       0.290  609  363     3.24       1.94"
      ]
     },
     "execution_count": 13,
     "metadata": {},
     "output_type": "execute_result"
    }
   ],
   "source": [
    "data.head()"
   ]
  },
  {
   "cell_type": "code",
   "execution_count": 25,
   "metadata": {},
   "outputs": [],
   "source": [
    "# One formula to rule them all \n",
    "sigma_A_ls = []\n",
    "sigma_AoverAminus1_ls = []\n",
    "sigma_Finit_minus_Ffinal_ls = []\n",
    "sigma_vV_ls = []\n",
    "sigma_chla_ls =[]\n",
    "#\n",
    "\n",
    "for row in range (len(data)):\n",
    "\n",
    "    #print row\n",
    "    \n",
    "# Extract measurements from sheet\n",
    "    f_init = data['Fo'][row]\n",
    "    f_acid = data['Fa'][row]\n",
    "    chla_ugL = data['chl_ugL'][row]\n",
    "    pheo_ugL = data['phaeo_ugL'][row]\n",
    "    V        = data['V_sample_L'][row]\n",
    "    v        = data['v_acetone_L'][row]\n",
    "\n",
    "    \n",
    "# Compute sigmas\n",
    "    sigma_A = 1./A * np.sqrt(((sigma_phi_chla/phi_chla)**2.) + ((sigma_phi_pheo/phi_pheo)**2.))\n",
    "    \n",
    "    sigma_AoverAminus1 = 1./ (A/(A-1)) * np.sqrt (((sigma_A/A)**2) + ((sigma_A/A)**2.))\n",
    "    \n",
    "    sigma_Finit_minus_Ffinal = np.sqrt (((sigma_F_init)**2.) + ((sigma_F_final)**2))\n",
    "    \n",
    "    sigma_vV = sigma_v/sigma_V\n",
    "    \n",
    "    \n",
    "    sigma_chla = 1./chla_ugL * np.sqrt (((sigma_K/K)**2) + (sigma_AoverAminus1/ (A/(A-1.))**2.)\n",
    "                                             + (sigma_Finit_minus_Ffinal/(f_init-f_acid)**2.) \n",
    "                                             + ((sigma_vV/(v/V))**2))\n",
    "    \n",
    "    \n",
    "    sigma_A_ls.append(sigma_A)\n",
    "    #print(sigma_A_ls)\n",
    "    sigma_AoverAminus1_ls.append(sigma_AoverAminus1)\n",
    "    sigma_Finit_minus_Ffinal_ls.append(sigma_Finit_minus_Ffinal)\n",
    "    sigma_vV_ls.append(sigma_vV)\n",
    "    sigma_chla_ls.append(sigma_chla)\n",
    "    \n",
    "    #print(sigma_Finit_minus_Ffinal_ls[row])\n",
    "    #print(sigma_AoverAminus1_ls[row])\n",
    "    #print(sigma_Finit_minus_Ffinal_ls[row])\n",
    "    #print(sigma_chla_ls[row])\n",
    "    #print(sigma_vV_ls[row])"
   ]
  },
  {
   "cell_type": "code",
   "execution_count": 23,
   "metadata": {},
   "outputs": [
    {
     "data": {
      "text/plain": [
       "<matplotlib.text.Text at 0x18379b35ef0>"
      ]
     },
     "execution_count": 23,
     "metadata": {},
     "output_type": "execute_result"
    },
    {
     "data": {
      "image/png": "[encoded data removed]",
      "text/plain": [
       "<matplotlib.figure.Figure at 0x18379b024e0>"
      ]
     },
     "metadata": {},
     "output_type": "display_data"
    }
   ],
   "source": [
    "plt.plot(sigma_chla_ls, 'o')\n",
    "plt.ylabel('Total Uncertainties')\n",
    "plt.xlabel('File number')\n",
    "plt.title('Total Uncertainties')"
   ]
  },
  {
   "cell_type": "code",
   "execution_count": 35,
   "metadata": {},
   "outputs": [
    {
     "data": {
      "image/png": "[encoded data removed]",
      "text/plain": [
       "<matplotlib.figure.Figure at 0x18379d9a898>"
      ]
     },
     "metadata": {},
     "output_type": "display_data"
    }
   ],
   "source": [
    "plt.plot(sigma_chla_ls, 'o')\n",
    "plt.ylim(0,5)\n",
    "plt.ylabel('Total Uncertainties - Chl a')\n",
    "plt.xlabel('File number')\n",
    "plt.title('Total Uncertainties')\n",
    "plt.savefig('Total Uncertainties', dpi=1200)"
   ]
  },
  {
   "cell_type": "code",
   "execution_count": 36,
   "metadata": {
    "collapsed": true
   },
   "outputs": [],
   "source": [
    "x = np.arange(0,59)"
   ]
  },
  {
   "cell_type": "code",
   "execution_count": 37,
   "metadata": {},
   "outputs": [
    {
     "data": {
      "image/png": "[encoded data removed]",
      "text/plain": [
       "<matplotlib.figure.Figure at 0x18379e50eb8>"
      ]
     },
     "metadata": {},
     "output_type": "display_data"
    }
   ],
   "source": [
    "\n",
    "plt.plot(x, data['chl_ugL'], 'o')\n",
    "plt.errorbar(x, data['chl_ugL'], yerr = sigma_chla_ls)\n",
    "#plt.ylim(0,5)\n",
    "plt.ylabel('Mean Chl a with total uncertainties')\n",
    "plt.xlabel('File number')\n",
    "plt.title('Total Uncertainties')\n",
    "plt.savefig('Mean Chl with Total Uncertainties', dpi=1200)"
   ]
  },
  {
   "cell_type": "code",
   "execution_count": 38,
   "metadata": {},
   "outputs": [
    {
     "data": {
      "image/png": "[encoded data removed]",
      "text/plain": [
       "<matplotlib.figure.Figure at 0x183089f2a58>"
      ]
     },
     "metadata": {},
     "output_type": "display_data"
    }
   ],
   "source": [
    "plt.plot(x, data['chl_ugL'], 'o')\n",
    "plt.errorbar(x, data['chl_ugL'], yerr = sigma_chla_ls)\n",
    "plt.ylim(0,5)\n",
    "plt.ylabel('Mean Chl a with total uncertainties')\n",
    "plt.xlabel('File number')\n",
    "plt.title('Total Uncertainties')\n",
    "plt.savefig('Mean Chl with Total Uncertainties - close up', dpi=1200)"
   ]
  },
  {
   "cell_type": "code",
   "execution_count": null,
   "metadata": {
    "collapsed": true
   },
   "outputs": [],
   "source": []
  },
  {
   "cell_type": "code",
   "execution_count": null,
   "metadata": {
    "collapsed": true
   },
   "outputs": [],
   "source": []
  }
 ],
 "metadata": {
  "anaconda-cloud": {},
  "kernelspec": {
   "display_name": "Python 3",
   "language": "python",
   "name": "python3"
  },
  "language_info": {
   "codemirror_mode": {
    "name": "ipython",
    "version": 3
   },
   "file_extension": ".py",
   "mimetype": "text/x-python",
   "name": "python",
   "nbconvert_exporter": "python",
   "pygments_lexer": "ipython3",
   "version": "3.6.1"
  }
 },
 "nbformat": 4,
 "nbformat_minor": 2
}
